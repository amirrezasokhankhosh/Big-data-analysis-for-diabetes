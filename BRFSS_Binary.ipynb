{
  "cells": [
    {
      "cell_type": "code",
      "execution_count": 36,
      "metadata": {
        "id": "hXP4EwEkzmC0"
      },
      "outputs": [],
      "source": [
        "import tensorflow as tf\n",
        "import numpy as np\n",
        "import matplotlib.pyplot as plt\n",
        "import pandas as pd\n",
        "from imblearn.over_sampling import SMOTE"
      ]
    },
    {
      "cell_type": "code",
      "execution_count": 37,
      "metadata": {
        "colab": {
          "base_uri": "https://localhost:8080/"
        },
        "id": "9vyMHdziz5Hv",
        "outputId": "8534a0ef-12cd-4cf7-83a8-619cb5163752"
      },
      "outputs": [
        {
          "name": "stdout",
          "output_type": "stream",
          "text": [
            "<class 'pandas.core.frame.DataFrame'>\n",
            "RangeIndex: 253680 entries, 0 to 253679\n",
            "Data columns (total 22 columns):\n",
            " #   Column                Non-Null Count   Dtype  \n",
            "---  ------                --------------   -----  \n",
            " 0   Diabetes_binary       253680 non-null  float64\n",
            " 1   HighBP                253680 non-null  float64\n",
            " 2   HighChol              253680 non-null  float64\n",
            " 3   CholCheck             253680 non-null  float64\n",
            " 4   BMI                   253680 non-null  float64\n",
            " 5   Smoker                253680 non-null  float64\n",
            " 6   Stroke                253680 non-null  float64\n",
            " 7   HeartDiseaseorAttack  253680 non-null  float64\n",
            " 8   PhysActivity          253680 non-null  float64\n",
            " 9   Fruits                253680 non-null  float64\n",
            " 10  Veggies               253680 non-null  float64\n",
            " 11  HvyAlcoholConsump     253680 non-null  float64\n",
            " 12  AnyHealthcare         253680 non-null  float64\n",
            " 13  NoDocbcCost           253680 non-null  float64\n",
            " 14  GenHlth               253680 non-null  float64\n",
            " 15  MentHlth              253680 non-null  float64\n",
            " 16  PhysHlth              253680 non-null  float64\n",
            " 17  DiffWalk              253680 non-null  float64\n",
            " 18  Sex                   253680 non-null  float64\n",
            " 19  Age                   253680 non-null  float64\n",
            " 20  Education             253680 non-null  float64\n",
            " 21  Income                253680 non-null  float64\n",
            "dtypes: float64(22)\n",
            "memory usage: 42.6 MB\n"
          ]
        }
      ],
      "source": [
        "df = pd.read_csv(\"./diabetes_binary_health_indicators_BRFSS2015.csv\")\n",
        "df = df.sample(frac=1).reset_index(drop=True)\n",
        "df.info()"
      ]
    },
    {
      "cell_type": "code",
      "execution_count": 39,
      "metadata": {},
      "outputs": [
        {
          "data": {
            "text/plain": [
              "86.07"
            ]
          },
          "execution_count": 39,
          "metadata": {},
          "output_type": "execute_result"
        }
      ],
      "source": []
    },
    {
      "cell_type": "code",
      "execution_count": 40,
      "metadata": {
        "id": "vsDa-alY0COi"
      },
      "outputs": [],
      "source": [
        "data = df.copy()"
      ]
    },
    {
      "cell_type": "code",
      "execution_count": 41,
      "metadata": {
        "id": "FnGo5Yv70EoN"
      },
      "outputs": [],
      "source": [
        "bins = [0, 18.5, 24.9, 29.9, 30]\n",
        "cats = [f'({bins[i]},{bins[i+1]}]' for i in range(len(bins)-1)]\n",
        "data[\"BMI\"] = pd.cut(data[\"BMI\"], bins=bins, labels=cats)"
      ]
    },
    {
      "cell_type": "code",
      "execution_count": 42,
      "metadata": {
        "id": "BiarrgXo0Gcx"
      },
      "outputs": [],
      "source": [
        "cat_attr = [\"GenHlth\", \"MentHlth\", \"PhysHlth\", \"Age\", \"Education\", \"Income\", \"BMI\"]"
      ]
    },
    {
      "cell_type": "code",
      "execution_count": 43,
      "metadata": {
        "id": "6pIj9bLZ0Hj2"
      },
      "outputs": [],
      "source": [
        "data_cat = data[cat_attr].copy()\n",
        "data = data.drop(cat_attr, axis=1)"
      ]
    },
    {
      "cell_type": "code",
      "execution_count": 44,
      "metadata": {
        "id": "0KDvamd_0I87"
      },
      "outputs": [],
      "source": [
        "from sklearn.preprocessing import OneHotEncoder\n",
        "\n",
        "encoder = OneHotEncoder()\n",
        "data_cat = pd.DataFrame(encoder.fit_transform(data_cat).toarray())"
      ]
    },
    {
      "cell_type": "code",
      "execution_count": 45,
      "metadata": {
        "id": "KYsm0kli0KSK"
      },
      "outputs": [],
      "source": [
        "data = pd.concat([data_cat, data], axis=1)"
      ]
    },
    {
      "cell_type": "code",
      "execution_count": 46,
      "metadata": {
        "colab": {
          "base_uri": "https://localhost:8080/",
          "height": 444
        },
        "id": "R5yTpw1Q0LMH",
        "outputId": "d135233f-9169-4cc3-eca7-631650559172"
      },
      "outputs": [
        {
          "data": {
            "text/html": [
              "<div>\n",
              "<style scoped>\n",
              "    .dataframe tbody tr th:only-of-type {\n",
              "        vertical-align: middle;\n",
              "    }\n",
              "\n",
              "    .dataframe tbody tr th {\n",
              "        vertical-align: top;\n",
              "    }\n",
              "\n",
              "    .dataframe thead th {\n",
              "        text-align: right;\n",
              "    }\n",
              "</style>\n",
              "<table border=\"1\" class=\"dataframe\">\n",
              "  <thead>\n",
              "    <tr style=\"text-align: right;\">\n",
              "      <th></th>\n",
              "      <th>0</th>\n",
              "      <th>1</th>\n",
              "      <th>2</th>\n",
              "      <th>3</th>\n",
              "      <th>4</th>\n",
              "      <th>5</th>\n",
              "      <th>6</th>\n",
              "      <th>7</th>\n",
              "      <th>8</th>\n",
              "      <th>9</th>\n",
              "      <th>...</th>\n",
              "      <th>Stroke</th>\n",
              "      <th>HeartDiseaseorAttack</th>\n",
              "      <th>PhysActivity</th>\n",
              "      <th>Fruits</th>\n",
              "      <th>Veggies</th>\n",
              "      <th>HvyAlcoholConsump</th>\n",
              "      <th>AnyHealthcare</th>\n",
              "      <th>NoDocbcCost</th>\n",
              "      <th>DiffWalk</th>\n",
              "      <th>Sex</th>\n",
              "    </tr>\n",
              "  </thead>\n",
              "  <tbody>\n",
              "    <tr>\n",
              "      <th>0</th>\n",
              "      <td>0.0</td>\n",
              "      <td>0.0</td>\n",
              "      <td>1.0</td>\n",
              "      <td>0.0</td>\n",
              "      <td>0.0</td>\n",
              "      <td>1.0</td>\n",
              "      <td>0.0</td>\n",
              "      <td>0.0</td>\n",
              "      <td>0.0</td>\n",
              "      <td>0.0</td>\n",
              "      <td>...</td>\n",
              "      <td>0.0</td>\n",
              "      <td>0.0</td>\n",
              "      <td>0.0</td>\n",
              "      <td>1.0</td>\n",
              "      <td>1.0</td>\n",
              "      <td>0.0</td>\n",
              "      <td>1.0</td>\n",
              "      <td>0.0</td>\n",
              "      <td>0.0</td>\n",
              "      <td>0.0</td>\n",
              "    </tr>\n",
              "    <tr>\n",
              "      <th>1</th>\n",
              "      <td>0.0</td>\n",
              "      <td>0.0</td>\n",
              "      <td>1.0</td>\n",
              "      <td>0.0</td>\n",
              "      <td>0.0</td>\n",
              "      <td>1.0</td>\n",
              "      <td>0.0</td>\n",
              "      <td>0.0</td>\n",
              "      <td>0.0</td>\n",
              "      <td>0.0</td>\n",
              "      <td>...</td>\n",
              "      <td>0.0</td>\n",
              "      <td>1.0</td>\n",
              "      <td>1.0</td>\n",
              "      <td>1.0</td>\n",
              "      <td>1.0</td>\n",
              "      <td>0.0</td>\n",
              "      <td>1.0</td>\n",
              "      <td>0.0</td>\n",
              "      <td>0.0</td>\n",
              "      <td>1.0</td>\n",
              "    </tr>\n",
              "    <tr>\n",
              "      <th>2</th>\n",
              "      <td>0.0</td>\n",
              "      <td>0.0</td>\n",
              "      <td>1.0</td>\n",
              "      <td>0.0</td>\n",
              "      <td>0.0</td>\n",
              "      <td>1.0</td>\n",
              "      <td>0.0</td>\n",
              "      <td>0.0</td>\n",
              "      <td>0.0</td>\n",
              "      <td>0.0</td>\n",
              "      <td>...</td>\n",
              "      <td>0.0</td>\n",
              "      <td>0.0</td>\n",
              "      <td>0.0</td>\n",
              "      <td>0.0</td>\n",
              "      <td>0.0</td>\n",
              "      <td>0.0</td>\n",
              "      <td>1.0</td>\n",
              "      <td>0.0</td>\n",
              "      <td>0.0</td>\n",
              "      <td>0.0</td>\n",
              "    </tr>\n",
              "    <tr>\n",
              "      <th>3</th>\n",
              "      <td>1.0</td>\n",
              "      <td>0.0</td>\n",
              "      <td>0.0</td>\n",
              "      <td>0.0</td>\n",
              "      <td>0.0</td>\n",
              "      <td>1.0</td>\n",
              "      <td>0.0</td>\n",
              "      <td>0.0</td>\n",
              "      <td>0.0</td>\n",
              "      <td>0.0</td>\n",
              "      <td>...</td>\n",
              "      <td>0.0</td>\n",
              "      <td>0.0</td>\n",
              "      <td>1.0</td>\n",
              "      <td>1.0</td>\n",
              "      <td>1.0</td>\n",
              "      <td>0.0</td>\n",
              "      <td>1.0</td>\n",
              "      <td>0.0</td>\n",
              "      <td>0.0</td>\n",
              "      <td>1.0</td>\n",
              "    </tr>\n",
              "    <tr>\n",
              "      <th>4</th>\n",
              "      <td>1.0</td>\n",
              "      <td>0.0</td>\n",
              "      <td>0.0</td>\n",
              "      <td>0.0</td>\n",
              "      <td>0.0</td>\n",
              "      <td>1.0</td>\n",
              "      <td>0.0</td>\n",
              "      <td>0.0</td>\n",
              "      <td>0.0</td>\n",
              "      <td>0.0</td>\n",
              "      <td>...</td>\n",
              "      <td>0.0</td>\n",
              "      <td>0.0</td>\n",
              "      <td>1.0</td>\n",
              "      <td>1.0</td>\n",
              "      <td>1.0</td>\n",
              "      <td>0.0</td>\n",
              "      <td>1.0</td>\n",
              "      <td>0.0</td>\n",
              "      <td>0.0</td>\n",
              "      <td>0.0</td>\n",
              "    </tr>\n",
              "    <tr>\n",
              "      <th>...</th>\n",
              "      <td>...</td>\n",
              "      <td>...</td>\n",
              "      <td>...</td>\n",
              "      <td>...</td>\n",
              "      <td>...</td>\n",
              "      <td>...</td>\n",
              "      <td>...</td>\n",
              "      <td>...</td>\n",
              "      <td>...</td>\n",
              "      <td>...</td>\n",
              "      <td>...</td>\n",
              "      <td>...</td>\n",
              "      <td>...</td>\n",
              "      <td>...</td>\n",
              "      <td>...</td>\n",
              "      <td>...</td>\n",
              "      <td>...</td>\n",
              "      <td>...</td>\n",
              "      <td>...</td>\n",
              "      <td>...</td>\n",
              "      <td>...</td>\n",
              "    </tr>\n",
              "    <tr>\n",
              "      <th>253675</th>\n",
              "      <td>1.0</td>\n",
              "      <td>0.0</td>\n",
              "      <td>0.0</td>\n",
              "      <td>0.0</td>\n",
              "      <td>0.0</td>\n",
              "      <td>1.0</td>\n",
              "      <td>0.0</td>\n",
              "      <td>0.0</td>\n",
              "      <td>0.0</td>\n",
              "      <td>0.0</td>\n",
              "      <td>...</td>\n",
              "      <td>0.0</td>\n",
              "      <td>0.0</td>\n",
              "      <td>0.0</td>\n",
              "      <td>1.0</td>\n",
              "      <td>0.0</td>\n",
              "      <td>0.0</td>\n",
              "      <td>1.0</td>\n",
              "      <td>0.0</td>\n",
              "      <td>0.0</td>\n",
              "      <td>1.0</td>\n",
              "    </tr>\n",
              "    <tr>\n",
              "      <th>253676</th>\n",
              "      <td>0.0</td>\n",
              "      <td>0.0</td>\n",
              "      <td>0.0</td>\n",
              "      <td>1.0</td>\n",
              "      <td>0.0</td>\n",
              "      <td>1.0</td>\n",
              "      <td>0.0</td>\n",
              "      <td>0.0</td>\n",
              "      <td>0.0</td>\n",
              "      <td>0.0</td>\n",
              "      <td>...</td>\n",
              "      <td>0.0</td>\n",
              "      <td>0.0</td>\n",
              "      <td>1.0</td>\n",
              "      <td>0.0</td>\n",
              "      <td>0.0</td>\n",
              "      <td>0.0</td>\n",
              "      <td>1.0</td>\n",
              "      <td>0.0</td>\n",
              "      <td>0.0</td>\n",
              "      <td>1.0</td>\n",
              "    </tr>\n",
              "    <tr>\n",
              "      <th>253677</th>\n",
              "      <td>0.0</td>\n",
              "      <td>0.0</td>\n",
              "      <td>1.0</td>\n",
              "      <td>0.0</td>\n",
              "      <td>0.0</td>\n",
              "      <td>1.0</td>\n",
              "      <td>0.0</td>\n",
              "      <td>0.0</td>\n",
              "      <td>0.0</td>\n",
              "      <td>0.0</td>\n",
              "      <td>...</td>\n",
              "      <td>0.0</td>\n",
              "      <td>0.0</td>\n",
              "      <td>0.0</td>\n",
              "      <td>0.0</td>\n",
              "      <td>1.0</td>\n",
              "      <td>0.0</td>\n",
              "      <td>1.0</td>\n",
              "      <td>0.0</td>\n",
              "      <td>0.0</td>\n",
              "      <td>1.0</td>\n",
              "    </tr>\n",
              "    <tr>\n",
              "      <th>253678</th>\n",
              "      <td>0.0</td>\n",
              "      <td>0.0</td>\n",
              "      <td>1.0</td>\n",
              "      <td>0.0</td>\n",
              "      <td>0.0</td>\n",
              "      <td>0.0</td>\n",
              "      <td>1.0</td>\n",
              "      <td>0.0</td>\n",
              "      <td>0.0</td>\n",
              "      <td>0.0</td>\n",
              "      <td>...</td>\n",
              "      <td>0.0</td>\n",
              "      <td>0.0</td>\n",
              "      <td>1.0</td>\n",
              "      <td>0.0</td>\n",
              "      <td>0.0</td>\n",
              "      <td>0.0</td>\n",
              "      <td>1.0</td>\n",
              "      <td>0.0</td>\n",
              "      <td>0.0</td>\n",
              "      <td>1.0</td>\n",
              "    </tr>\n",
              "    <tr>\n",
              "      <th>253679</th>\n",
              "      <td>0.0</td>\n",
              "      <td>0.0</td>\n",
              "      <td>1.0</td>\n",
              "      <td>0.0</td>\n",
              "      <td>0.0</td>\n",
              "      <td>1.0</td>\n",
              "      <td>0.0</td>\n",
              "      <td>0.0</td>\n",
              "      <td>0.0</td>\n",
              "      <td>0.0</td>\n",
              "      <td>...</td>\n",
              "      <td>0.0</td>\n",
              "      <td>0.0</td>\n",
              "      <td>1.0</td>\n",
              "      <td>0.0</td>\n",
              "      <td>1.0</td>\n",
              "      <td>0.0</td>\n",
              "      <td>1.0</td>\n",
              "      <td>0.0</td>\n",
              "      <td>1.0</td>\n",
              "      <td>0.0</td>\n",
              "    </tr>\n",
              "  </tbody>\n",
              "</table>\n",
              "<p>253680 rows × 114 columns</p>\n",
              "</div>"
            ],
            "text/plain": [
              "          0    1    2    3    4    5    6    7    8    9  ...  Stroke  \\\n",
              "0       0.0  0.0  1.0  0.0  0.0  1.0  0.0  0.0  0.0  0.0  ...     0.0   \n",
              "1       0.0  0.0  1.0  0.0  0.0  1.0  0.0  0.0  0.0  0.0  ...     0.0   \n",
              "2       0.0  0.0  1.0  0.0  0.0  1.0  0.0  0.0  0.0  0.0  ...     0.0   \n",
              "3       1.0  0.0  0.0  0.0  0.0  1.0  0.0  0.0  0.0  0.0  ...     0.0   \n",
              "4       1.0  0.0  0.0  0.0  0.0  1.0  0.0  0.0  0.0  0.0  ...     0.0   \n",
              "...     ...  ...  ...  ...  ...  ...  ...  ...  ...  ...  ...     ...   \n",
              "253675  1.0  0.0  0.0  0.0  0.0  1.0  0.0  0.0  0.0  0.0  ...     0.0   \n",
              "253676  0.0  0.0  0.0  1.0  0.0  1.0  0.0  0.0  0.0  0.0  ...     0.0   \n",
              "253677  0.0  0.0  1.0  0.0  0.0  1.0  0.0  0.0  0.0  0.0  ...     0.0   \n",
              "253678  0.0  0.0  1.0  0.0  0.0  0.0  1.0  0.0  0.0  0.0  ...     0.0   \n",
              "253679  0.0  0.0  1.0  0.0  0.0  1.0  0.0  0.0  0.0  0.0  ...     0.0   \n",
              "\n",
              "        HeartDiseaseorAttack  PhysActivity  Fruits  Veggies  \\\n",
              "0                        0.0           0.0     1.0      1.0   \n",
              "1                        1.0           1.0     1.0      1.0   \n",
              "2                        0.0           0.0     0.0      0.0   \n",
              "3                        0.0           1.0     1.0      1.0   \n",
              "4                        0.0           1.0     1.0      1.0   \n",
              "...                      ...           ...     ...      ...   \n",
              "253675                   0.0           0.0     1.0      0.0   \n",
              "253676                   0.0           1.0     0.0      0.0   \n",
              "253677                   0.0           0.0     0.0      1.0   \n",
              "253678                   0.0           1.0     0.0      0.0   \n",
              "253679                   0.0           1.0     0.0      1.0   \n",
              "\n",
              "        HvyAlcoholConsump  AnyHealthcare  NoDocbcCost  DiffWalk  Sex  \n",
              "0                     0.0            1.0          0.0       0.0  0.0  \n",
              "1                     0.0            1.0          0.0       0.0  1.0  \n",
              "2                     0.0            1.0          0.0       0.0  0.0  \n",
              "3                     0.0            1.0          0.0       0.0  1.0  \n",
              "4                     0.0            1.0          0.0       0.0  0.0  \n",
              "...                   ...            ...          ...       ...  ...  \n",
              "253675                0.0            1.0          0.0       0.0  1.0  \n",
              "253676                0.0            1.0          0.0       0.0  1.0  \n",
              "253677                0.0            1.0          0.0       0.0  1.0  \n",
              "253678                0.0            1.0          0.0       0.0  1.0  \n",
              "253679                0.0            1.0          0.0       1.0  0.0  \n",
              "\n",
              "[253680 rows x 114 columns]"
            ]
          },
          "execution_count": 46,
          "metadata": {},
          "output_type": "execute_result"
        }
      ],
      "source": [
        "data"
      ]
    },
    {
      "cell_type": "code",
      "execution_count": 47,
      "metadata": {
        "id": "0o---deQ0NjH"
      },
      "outputs": [],
      "source": [
        "y = data[[\"Diabetes_binary\"]].copy()\n",
        "X = data.drop([\"Diabetes_binary\"], axis=1)"
      ]
    },
    {
      "cell_type": "code",
      "execution_count": 48,
      "metadata": {
        "id": "S9dD7McCuZEO"
      },
      "outputs": [],
      "source": [
        "oversample = SMOTE()\n",
        "X, y = oversample.fit_resample(np.array(X), np.array(y))"
      ]
    },
    {
      "cell_type": "code",
      "execution_count": 51,
      "metadata": {},
      "outputs": [
        {
          "data": {
            "text/plain": [
              "0.5"
            ]
          },
          "execution_count": 51,
          "metadata": {},
          "output_type": "execute_result"
        }
      ],
      "source": [
        "y.sum() / len(y)"
      ]
    },
    {
      "cell_type": "code",
      "execution_count": 14,
      "metadata": {
        "id": "v62LEA1F0Ofb"
      },
      "outputs": [],
      "source": [
        "from sklearn.model_selection import train_test_split\n",
        "\n",
        "X_train_t, X_test, y_train_t, y_test = train_test_split(X, y,\n",
        "                                                        test_size=0.15,\n",
        "                                                        random_state=27,\n",
        "                                                        stratify=y)\n",
        "X_train, X_val, y_train, y_val = train_test_split(X, y,\n",
        "                                                test_size=0.15,\n",
        "                                                random_state=27,\n",
        "                                                stratify=y)"
      ]
    },
    {
      "cell_type": "code",
      "execution_count": 50,
      "metadata": {
        "id": "IvSpZbw7l0hR"
      },
      "outputs": [],
      "source": [
        "# oversample = SMOTE()\n",
        "# X_train, y_train = oversample.fit_resample(np.array(X_train), np.array(y_train))"
      ]
    },
    {
      "cell_type": "code",
      "execution_count": 15,
      "metadata": {
        "id": "2a9N1dC10RJo"
      },
      "outputs": [
        {
          "name": "stdout",
          "output_type": "stream",
          "text": [
            "Metal device set to: Apple M1 Pro\n",
            "\n",
            "systemMemory: 16.00 GB\n",
            "maxCacheSize: 5.33 GB\n",
            "\n"
          ]
        },
        {
          "name": "stderr",
          "output_type": "stream",
          "text": [
            "2023-12-16 10:10:17.398171: I tensorflow/core/common_runtime/pluggable_device/pluggable_device_factory.cc:306] Could not identify NUMA node of platform GPU ID 0, defaulting to 0. Your kernel may not have been built with NUMA support.\n",
            "2023-12-16 10:10:17.398820: I tensorflow/core/common_runtime/pluggable_device/pluggable_device_factory.cc:272] Created TensorFlow device (/job:localhost/replica:0/task:0/device:GPU:0 with 0 MB memory) -> physical PluggableDevice (device: 0, name: METAL, pci bus id: <undefined>)\n"
          ]
        }
      ],
      "source": [
        "model = tf.keras.models.Sequential()\n",
        "model.add(tf.keras.layers.InputLayer(input_shape=(X_train.shape[1])))\n",
        "model.add(tf.keras.layers.Dense(100, activation=\"selu\", kernel_initializer=\"lecun_normal\"))\n",
        "model.add(tf.keras.layers.Dense(100, activation=\"selu\", kernel_initializer=\"lecun_normal\"))\n",
        "model.add(tf.keras.layers.Dense(100, activation=\"selu\", kernel_initializer=\"lecun_normal\"))\n",
        "model.add(tf.keras.layers.Dense(100, activation=\"selu\", kernel_initializer=\"lecun_normal\"))\n",
        "model.add(tf.keras.layers.Dense(100, activation=\"selu\", kernel_initializer=\"lecun_normal\"))\n",
        "model.add(tf.keras.layers.Dense(1, activation='sigmoid'))"
      ]
    },
    {
      "cell_type": "code",
      "execution_count": 35,
      "metadata": {},
      "outputs": [
        {
          "name": "stdout",
          "output_type": "stream",
          "text": [
            "Model: \"sequential\"\n",
            "_________________________________________________________________\n",
            " Layer (type)                Output Shape              Param #   \n",
            "=================================================================\n",
            " dense (Dense)               (None, 100)               11400     \n",
            "                                                                 \n",
            " dense_1 (Dense)             (None, 100)               10100     \n",
            "                                                                 \n",
            " dense_2 (Dense)             (None, 100)               10100     \n",
            "                                                                 \n",
            " dense_3 (Dense)             (None, 100)               10100     \n",
            "                                                                 \n",
            " dense_4 (Dense)             (None, 100)               10100     \n",
            "                                                                 \n",
            " dense_5 (Dense)             (None, 1)                 101       \n",
            "                                                                 \n",
            "=================================================================\n",
            "Total params: 51,901\n",
            "Trainable params: 51,901\n",
            "Non-trainable params: 0\n",
            "_________________________________________________________________\n"
          ]
        }
      ],
      "source": [
        "model.summary()"
      ]
    },
    {
      "cell_type": "code",
      "execution_count": 16,
      "metadata": {
        "colab": {
          "base_uri": "https://localhost:8080/",
          "height": 754
        },
        "id": "cQ6d-1F_0SjS",
        "outputId": "394c78e4-eb95-44bd-cf6c-9063d5885118"
      },
      "outputs": [
        {
          "data": {
            "image/png": "[encoded data removed]",
            "text/plain": [
              "<IPython.core.display.Image object>"
            ]
          },
          "execution_count": 16,
          "metadata": {},
          "output_type": "execute_result"
        }
      ],
      "source": [
        "tf.keras.utils.plot_model(model, show_shapes=True)"
      ]
    },
    {
      "cell_type": "code",
      "execution_count": 17,
      "metadata": {
        "id": "8ERRXiLs0UO5"
      },
      "outputs": [],
      "source": [
        "model.compile(optimizer='nadam',\n",
        "              loss='binary_crossentropy',\n",
        "              metrics='accuracy')"
      ]
    },
    {
      "cell_type": "code",
      "execution_count": 37,
      "metadata": {
        "id": "dg3HKjeT0VTA"
      },
      "outputs": [],
      "source": [
        "# from sklearn.utils import class_weight\n",
        "\n",
        "# weights = class_weight.compute_class_weight(class_weight=\"balanced\", classes=np.unique(y_train),\n",
        "#                                                   y=y_train.values.reshape(-1))"
      ]
    },
    {
      "cell_type": "code",
      "execution_count": 38,
      "metadata": {
        "id": "0hXYOXZt0WYh"
      },
      "outputs": [],
      "source": [
        "# class_weight = {}\n",
        "# classes = np.unique(y_train).tolist()\n",
        "# for i in range(len(classes)):\n",
        "#     class_weight[classes[i]] = weights[i]"
      ]
    },
    {
      "cell_type": "code",
      "execution_count": 39,
      "metadata": {
        "colab": {
          "base_uri": "https://localhost:8080/"
        },
        "id": "el46BuKXitFl",
        "outputId": "06e7eb4a-f5ab-4638-b7a0-6f5508ea580d"
      },
      "outputs": [
        {
          "data": {
            "text/plain": [
              "{0.0: 0.580944477972239, 1.0: 3.588536812674744}"
            ]
          },
          "execution_count": 39,
          "metadata": {},
          "output_type": "execute_result"
        }
      ],
      "source": [
        "# class_weight"
      ]
    },
    {
      "cell_type": "code",
      "execution_count": 87,
      "metadata": {
        "colab": {
          "base_uri": "https://localhost:8080/"
        },
        "id": "16j-7Eb_0Xdy",
        "outputId": "fdd7a7ad-5842-46b4-e300-3786e45f8fc7"
      },
      "outputs": [
        {
          "name": "stderr",
          "output_type": "stream",
          "text": [
            "WARNING:tensorflow:`period` argument is deprecated. Please use `save_freq` to specify the frequency in number of batches seen.\n"
          ]
        },
        {
          "name": "stdout",
          "output_type": "stream",
          "text": [
            "Epoch 1/100\n",
            "11599/11599 [==============================] - 73s 6ms/step - loss: 0.4923 - accuracy: 0.7617 - val_loss: 0.4785 - val_accuracy: 0.7688 - lr: 0.0010\n",
            "Epoch 2/100\n",
            "   34/11599 [..............................] - ETA: 53s - loss: 0.4639 - accuracy: 0.7748"
          ]
        },
        {
          "name": "stderr",
          "output_type": "stream",
          "text": [
            "/usr/local/lib/python3.10/dist-packages/keras/src/engine/training.py:3079: UserWarning: You are saving your model as an HDF5 file via `model.save()`. This file format is considered legacy. We recommend using instead the native Keras format, e.g. `model.save('my_model.keras')`.\n",
            "  saving_api.save_model(\n"
          ]
        },
        {
          "name": "stdout",
          "output_type": "stream",
          "text": [
            "11599/11599 [==============================] - 69s 6ms/step - loss: 0.4615 - accuracy: 0.7786 - val_loss: 0.4598 - val_accuracy: 0.7768 - lr: 0.0010\n",
            "Epoch 3/100\n",
            "11599/11599 [==============================] - 72s 6ms/step - loss: 0.4419 - accuracy: 0.7890 - val_loss: 0.4275 - val_accuracy: 0.7940 - lr: 0.0010\n",
            "Epoch 4/100\n",
            "11599/11599 [==============================] - 75s 6ms/step - loss: 0.4214 - accuracy: 0.7984 - val_loss: 0.4056 - val_accuracy: 0.8062 - lr: 0.0010\n",
            "Epoch 5/100\n",
            "11599/11599 [==============================] - 71s 6ms/step - loss: 0.3975 - accuracy: 0.8093 - val_loss: 0.3846 - val_accuracy: 0.8145 - lr: 0.0010\n",
            "Epoch 6/100\n",
            "11599/11599 [==============================] - 76s 7ms/step - loss: 0.3798 - accuracy: 0.8169 - val_loss: 0.3707 - val_accuracy: 0.8218 - lr: 0.0010\n",
            "Epoch 7/100\n",
            "11599/11599 [==============================] - 71s 6ms/step - loss: 0.3679 - accuracy: 0.8223 - val_loss: 0.3673 - val_accuracy: 0.8224 - lr: 0.0010\n",
            "Epoch 8/100\n",
            "11599/11599 [==============================] - 71s 6ms/step - loss: 0.3603 - accuracy: 0.8261 - val_loss: 0.3583 - val_accuracy: 0.8272 - lr: 0.0010\n",
            "Epoch 9/100\n",
            "11599/11599 [==============================] - 69s 6ms/step - loss: 0.3545 - accuracy: 0.8288 - val_loss: 0.3559 - val_accuracy: 0.8259 - lr: 0.0010\n",
            "Epoch 10/100\n",
            "11599/11599 [==============================] - 69s 6ms/step - loss: 0.3495 - accuracy: 0.8313 - val_loss: 0.3552 - val_accuracy: 0.8277 - lr: 0.0010\n",
            "Epoch 11/100\n",
            "11599/11599 [==============================] - 70s 6ms/step - loss: 0.3454 - accuracy: 0.8341 - val_loss: 0.3571 - val_accuracy: 0.8290 - lr: 0.0010\n",
            "Epoch 12/100\n",
            "11599/11599 [==============================] - 69s 6ms/step - loss: 0.3397 - accuracy: 0.8369 - val_loss: 0.3444 - val_accuracy: 0.8347 - lr: 0.0010\n",
            "Epoch 13/100\n",
            "11599/11599 [==============================] - 69s 6ms/step - loss: 0.3347 - accuracy: 0.8391 - val_loss: 0.3468 - val_accuracy: 0.8350 - lr: 0.0010\n",
            "Epoch 14/100\n",
            "11599/11599 [==============================] - 68s 6ms/step - loss: 0.3295 - accuracy: 0.8423 - val_loss: 0.3348 - val_accuracy: 0.8389 - lr: 0.0010\n",
            "Epoch 15/100\n",
            "11599/11599 [==============================] - 75s 6ms/step - loss: 0.3247 - accuracy: 0.8447 - val_loss: 0.3354 - val_accuracy: 0.8364 - lr: 0.0010\n",
            "Epoch 16/100\n",
            "11599/11599 [==============================] - 70s 6ms/step - loss: 0.3210 - accuracy: 0.8472 - val_loss: 0.3247 - val_accuracy: 0.8457 - lr: 0.0010\n",
            "Epoch 17/100\n",
            "11599/11599 [==============================] - 69s 6ms/step - loss: 0.3168 - accuracy: 0.8495 - val_loss: 0.3231 - val_accuracy: 0.8449 - lr: 0.0010\n",
            "Epoch 18/100\n",
            "11599/11599 [==============================] - 69s 6ms/step - loss: 0.3113 - accuracy: 0.8517 - val_loss: 0.3227 - val_accuracy: 0.8468 - lr: 0.0010\n",
            "Epoch 19/100\n",
            "11599/11599 [==============================] - 69s 6ms/step - loss: 0.3092 - accuracy: 0.8538 - val_loss: 0.3268 - val_accuracy: 0.8394 - lr: 0.0010\n",
            "Epoch 20/100\n",
            "11599/11599 [==============================] - 68s 6ms/step - loss: 0.3046 - accuracy: 0.8557 - val_loss: 0.3251 - val_accuracy: 0.8491 - lr: 0.0010\n",
            "Epoch 21/100\n",
            "11599/11599 [==============================] - 70s 6ms/step - loss: 0.3014 - accuracy: 0.8579 - val_loss: 0.3221 - val_accuracy: 0.8501 - lr: 0.0010\n",
            "Epoch 22/100\n",
            "11599/11599 [==============================] - 69s 6ms/step - loss: 0.2988 - accuracy: 0.8592 - val_loss: 0.3217 - val_accuracy: 0.8502 - lr: 0.0010\n",
            "Epoch 23/100\n",
            "11599/11599 [==============================] - 68s 6ms/step - loss: 0.2956 - accuracy: 0.8614 - val_loss: 0.3315 - val_accuracy: 0.8473 - lr: 0.0010\n",
            "Epoch 24/100\n",
            "11599/11599 [==============================] - 66s 6ms/step - loss: 0.2926 - accuracy: 0.8630 - val_loss: 0.3369 - val_accuracy: 0.8391 - lr: 0.0010\n",
            "Epoch 25/100\n",
            "11599/11599 [==============================] - 67s 6ms/step - loss: 0.2938 - accuracy: 0.8621 - val_loss: 0.3329 - val_accuracy: 0.8429 - lr: 0.0010\n",
            "Epoch 26/100\n",
            "11599/11599 [==============================] - 67s 6ms/step - loss: 0.2687 - accuracy: 0.8745 - val_loss: 0.3077 - val_accuracy: 0.8606 - lr: 5.0000e-04\n",
            "Epoch 27/100\n",
            "11599/11599 [==============================] - 70s 6ms/step - loss: 0.2627 - accuracy: 0.8775 - val_loss: 0.3168 - val_accuracy: 0.8582 - lr: 5.0000e-04\n",
            "Epoch 28/100\n",
            "11599/11599 [==============================] - 66s 6ms/step - loss: 0.2597 - accuracy: 0.8800 - val_loss: 0.3147 - val_accuracy: 0.8599 - lr: 5.0000e-04\n",
            "Epoch 29/100\n",
            "11599/11599 [==============================] - 66s 6ms/step - loss: 0.2578 - accuracy: 0.8800 - val_loss: 0.3029 - val_accuracy: 0.8633 - lr: 5.0000e-04\n",
            "Epoch 30/100\n",
            "11599/11599 [==============================] - 66s 6ms/step - loss: 0.2552 - accuracy: 0.8817 - val_loss: 0.3051 - val_accuracy: 0.8652 - lr: 5.0000e-04\n",
            "Epoch 31/100\n",
            "11599/11599 [==============================] - 67s 6ms/step - loss: 0.2532 - accuracy: 0.8828 - val_loss: 0.3086 - val_accuracy: 0.8645 - lr: 5.0000e-04\n",
            "Epoch 32/100\n",
            "11599/11599 [==============================] - 67s 6ms/step - loss: 0.2534 - accuracy: 0.8840 - val_loss: 0.3203 - val_accuracy: 0.8632 - lr: 5.0000e-04\n",
            "Epoch 33/100\n",
            "11599/11599 [==============================] - 66s 6ms/step - loss: 0.2367 - accuracy: 0.8914 - val_loss: 0.3061 - val_accuracy: 0.8697 - lr: 2.5000e-04\n",
            "Epoch 34/100\n",
            "11599/11599 [==============================] - 69s 6ms/step - loss: 0.2332 - accuracy: 0.8932 - val_loss: 0.3057 - val_accuracy: 0.8648 - lr: 2.5000e-04\n",
            "Epoch 35/100\n",
            "11599/11599 [==============================] - 67s 6ms/step - loss: 0.2313 - accuracy: 0.8941 - val_loss: 0.3111 - val_accuracy: 0.8703 - lr: 2.5000e-04\n",
            "Epoch 36/100\n",
            "11599/11599 [==============================] - 66s 6ms/step - loss: 0.2222 - accuracy: 0.8992 - val_loss: 0.3164 - val_accuracy: 0.8732 - lr: 1.2500e-04\n",
            "Epoch 37/100\n",
            "11599/11599 [==============================] - 67s 6ms/step - loss: 0.2203 - accuracy: 0.9001 - val_loss: 0.3218 - val_accuracy: 0.8729 - lr: 1.2500e-04\n",
            "Epoch 38/100\n",
            "11599/11599 [==============================] - 67s 6ms/step - loss: 0.2189 - accuracy: 0.9005 - val_loss: 0.3136 - val_accuracy: 0.8727 - lr: 1.2500e-04\n",
            "Epoch 39/100\n",
            "11599/11599 [==============================] - 66s 6ms/step - loss: 0.2135 - accuracy: 0.9034 - val_loss: 0.3182 - val_accuracy: 0.8722 - lr: 6.2500e-05\n"
          ]
        }
      ],
      "source": [
        "callback_es = tf.keras.callbacks.EarlyStopping(monitor=\"val_loss\", patience=10)\n",
        "checkpoint_cb = tf.keras.callbacks.ModelCheckpoint(\"./my_keras_model.h5\", monitor='val_loss', save_freq=1,\n",
        "                                                    save_best_only=True)\n",
        "lr_scheduler = tf.keras.callbacks.ReduceLROnPlateau(factor=0.5, patience=3)\n",
        "# history = model.fit(X_train, y_train, batch_size=32, epochs=100, validation_data=(X_val, y_val), callbacks=[callback_es, checkpoint_cb, lr_scheduler], class_weight=class_weight)\n",
        "history = model.fit(X_train, y_train, batch_size=32, epochs=100, validation_data=(X_val, y_val), callbacks=[callback_es, checkpoint_cb, lr_scheduler])"
      ]
    },
    {
      "cell_type": "code",
      "execution_count": 88,
      "metadata": {
        "colab": {
          "base_uri": "https://localhost:8080/",
          "height": 472
        },
        "id": "KTG2E-Z00x02",
        "outputId": "57ad2dfb-aca5-4513-de0b-8fcd50b05eb1"
      },
      "outputs": [
        {
          "data": {
            "image/png": "[encoded data removed]",
            "text/plain": [
              "<Figure size 640x480 with 1 Axes>"
            ]
          },
          "metadata": {},
          "output_type": "display_data"
        }
      ],
      "source": [
        "plt.plot(history.history[\"accuracy\"])\n",
        "plt.scatter(range(len(history.history[\"accuracy\"])), history.history[\"accuracy\"])\n",
        "plt.title(\"Train Accuracy per epoch\")\n",
        "plt.ylabel(\"Train Accuracy\")\n",
        "plt.xlabel(\"Epoch\")\n",
        "plt.show()"
      ]
    },
    {
      "cell_type": "code",
      "execution_count": 89,
      "metadata": {
        "colab": {
          "base_uri": "https://localhost:8080/",
          "height": 472
        },
        "id": "7Z1LGlVc047X",
        "outputId": "4a666200-19df-4d93-f987-ac08d5b60da1"
      },
      "outputs": [
        {
          "data": {
            "image/png": "[encoded data removed]",
            "text/plain": [
              "<Figure size 640x480 with 1 Axes>"
            ]
          },
          "metadata": {},
          "output_type": "display_data"
        }
      ],
      "source": [
        "plt.plot(history.history[\"val_accuracy\"])\n",
        "plt.scatter(range(len(history.history[\"val_accuracy\"])), history.history[\"val_accuracy\"])\n",
        "plt.title(\"Validation Accuracy per epoch\")\n",
        "plt.ylabel(\"Validation Accuracy\")\n",
        "plt.xlabel(\"Epoch\")\n",
        "plt.show()"
      ]
    },
    {
      "cell_type": "code",
      "execution_count": 93,
      "metadata": {
        "id": "D_U_y6K1sgf0"
      },
      "outputs": [],
      "source": [
        "model.load_weights(\"./my_keras_model.h5\")"
      ]
    },
    {
      "cell_type": "code",
      "execution_count": 67,
      "metadata": {
        "colab": {
          "base_uri": "https://localhost:8080/"
        },
        "id": "HheImHLftGhF",
        "outputId": "fcbb6f63-75da-4b0a-97ac-dae67aa0266c"
      },
      "outputs": [
        {
          "data": {
            "text/plain": [
              "<keras.src.engine.sequential.Sequential at 0x7b54533d6d10>"
            ]
          },
          "execution_count": 67,
          "metadata": {},
          "output_type": "execute_result"
        }
      ],
      "source": [
        "model"
      ]
    },
    {
      "cell_type": "code",
      "execution_count": 94,
      "metadata": {
        "colab": {
          "base_uri": "https://localhost:8080/"
        },
        "id": "UHuA2afd08IL",
        "outputId": "67711978-5d0c-4bbb-b00e-69f246cb4848"
      },
      "outputs": [
        {
          "name": "stdout",
          "output_type": "stream",
          "text": [
            "2047/2047 [==============================] - 5s 2ms/step - loss: 0.3029 - accuracy: 0.8633\n"
          ]
        },
        {
          "data": {
            "text/plain": [
              "[0.30288398265838623, 0.8633303046226501]"
            ]
          },
          "execution_count": 94,
          "metadata": {},
          "output_type": "execute_result"
        }
      ],
      "source": [
        "model.evaluate(X_test, y_test)"
      ]
    },
    {
      "cell_type": "code",
      "execution_count": 95,
      "metadata": {
        "colab": {
          "base_uri": "https://localhost:8080/"
        },
        "id": "frD-ng8Dtycm",
        "outputId": "0c7e4bb4-cd08-498f-ee3d-564cd906e668"
      },
      "outputs": [
        {
          "data": {
            "text/plain": [
              "0.5000076334712447"
            ]
          },
          "execution_count": 95,
          "metadata": {},
          "output_type": "execute_result"
        }
      ],
      "source": [
        "y_test.sum(axis=0)/ len(y_test)"
      ]
    },
    {
      "cell_type": "code",
      "execution_count": 96,
      "metadata": {
        "colab": {
          "base_uri": "https://localhost:8080/"
        },
        "id": "J66gP2bd0-hB",
        "outputId": "ed2e903e-0038-487f-97cd-ecbbbe08c6eb"
      },
      "outputs": [
        {
          "name": "stdout",
          "output_type": "stream",
          "text": [
            "2047/2047 [==============================] - 4s 2ms/step\n"
          ]
        },
        {
          "data": {
            "text/plain": [
              "(array([0.84178779, 0.88777007]),\n",
              " array([0.89483969, 0.83182193]),\n",
              " array([0.8675034 , 0.85888584]),\n",
              " array([32750, 32751]))"
            ]
          },
          "execution_count": 96,
          "metadata": {},
          "output_type": "execute_result"
        }
      ],
      "source": [
        "from sklearn.metrics import precision_recall_fscore_support\n",
        "\n",
        "y_pred = model.predict(X_test)\n",
        "precision_recall_fscore_support(y_test, y_pred > 0.5)"
      ]
    },
    {
      "cell_type": "code",
      "execution_count": 98,
      "metadata": {
        "colab": {
          "base_uri": "https://localhost:8080/",
          "height": 449
        },
        "id": "rtAB0LHqAu1c",
        "outputId": "a73751c7-0fd4-430a-baef-4fe007fc673d"
      },
      "outputs": [
        {
          "data": {
            "image/png": "[encoded data removed]",
            "text/plain": [
              "<Figure size 640x480 with 2 Axes>"
            ]
          },
          "metadata": {},
          "output_type": "display_data"
        }
      ],
      "source": [
        "from sklearn.metrics import confusion_matrix, ConfusionMatrixDisplay\n",
        "confusion_matrix = confusion_matrix(y_test, y_pred > 0.5)\n",
        "\n",
        "cm_display = ConfusionMatrixDisplay(confusion_matrix = confusion_matrix, display_labels = [False, True])\n",
        "\n",
        "cm_display.plot()\n",
        "plt.show()"
      ]
    }
  ],
  "metadata": {
    "accelerator": "GPU",
    "colab": {
      "gpuType": "T4",
      "provenance": []
    },
    "kernelspec": {
      "display_name": "Python 3",
      "name": "python3"
    },
    "language_info": {
      "codemirror_mode": {
        "name": "ipython",
        "version": 3
      },
      "file_extension": ".py",
      "mimetype": "text/x-python",
      "name": "python",
      "nbconvert_exporter": "python",
      "pygments_lexer": "ipython3",
      "version": "3.10.6"
    }
  },
  "nbformat": 4,
  "nbformat_minor": 0
}
