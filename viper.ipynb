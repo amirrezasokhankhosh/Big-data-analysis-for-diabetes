{
 "cells": [
  {
   "cell_type": "code",
   "execution_count": 1,
   "metadata": {},
   "outputs": [],
   "source": [
    "import pandas as pd\n",
    "from sklearn.preprocessing import OneHotEncoder\n",
    "import numpy as np\n",
    "import warnings\n",
    "import matplotlib.pyplot as plt"
   ]
  },
  {
   "cell_type": "code",
   "execution_count": 2,
   "metadata": {},
   "outputs": [],
   "source": [
    "warnings.simplefilter(action='ignore', category=pd.errors.PerformanceWarning)\n",
    "warnings.simplefilter(action='ignore', category=RuntimeWarning)"
   ]
  },
  {
   "cell_type": "code",
   "execution_count": 3,
   "metadata": {},
   "outputs": [],
   "source": [
    "def bmi_convert(bmi):\n",
    "    if bmi < 18.5:\n",
    "        return 0\n",
    "    if 18.5 <= bmi < 25:\n",
    "        return 1\n",
    "    if 25 <= bmi < 30:\n",
    "        return 2\n",
    "    if 30 <= bmi:\n",
    "        return 3"
   ]
  },
  {
   "cell_type": "code",
   "execution_count": 4,
   "metadata": {},
   "outputs": [],
   "source": [
    "def have_same_prefix(str1, str2):\n",
    "    words_1 = str1.split(\"&\")\n",
    "    words_2 = str2.split(\"&\")\n",
    "    for i in range(len(words_1) - 1):\n",
    "        if words_1[i] != words_2[i]:\n",
    "            return False\n",
    "    return True\n",
    "\n",
    "def generate_new_name(str1, str2):\n",
    "    words_1 = str1.split(\"&\")\n",
    "    words_2 = str2.split(\"&\")\n",
    "    new_str = \"\"\n",
    "    for i in range(len(words_1)):\n",
    "        new_str += words_1[i] + \"&\"\n",
    "        if i == len(words_1) - 1:\n",
    "            new_str += words_2[-1]\n",
    "    return new_str"
   ]
  },
  {
   "cell_type": "code",
   "execution_count": 5,
   "metadata": {},
   "outputs": [
    {
     "name": "stderr",
     "output_type": "stream",
     "text": [
      "/var/folders/fc/9w7nbmnj2y10_sl912glk3240000gn/T/ipykernel_16023/1557338452.py:11: SettingWithCopyWarning: \n",
      "A value is trying to be set on a copy of a slice from a DataFrame\n",
      "\n",
      "See the caveats in the documentation: https://pandas.pydata.org/pandas-docs/stable/user_guide/indexing.html#returning-a-view-versus-a-copy\n",
      "  df_new.drop(cat_columns, axis=1, inplace=True)\n"
     ]
    }
   ],
   "source": [
    "df = pd.read_csv(\"./diabetes_binary_health_indicators_BRFSS2015.csv\")\n",
    "df = df.astype(int)\n",
    "df[\"BMI\"] = df[\"BMI\"].map(bmi_convert)\n",
    "df[\"Male\"] = df[\"Sex\"]\n",
    "df[\"Female\"] = df[\"Sex\"].map(lambda x: 1 - x)\n",
    "df_new = df[[\"Diabetes_binary\", \"HighBP\", \"HighChol\", \"CholCheck\", \"BMI\", \"Smoker\", \"Stroke\", \"HeartDiseaseorAttack\", \"PhysActivity\", \"Fruits\", \"Veggies\", \"HvyAlcoholConsump\", \"GenHlth\", \"DiffWalk\", \"Male\", \"Female\", \"Age\"]]\n",
    "\n",
    "cat_columns = [\"BMI\", \"GenHlth\", \"Age\"]\n",
    "encoder = OneHotEncoder()\n",
    "X = encoder.fit_transform(df_new[cat_columns]).toarray()\n",
    "df_new.drop(cat_columns, axis=1, inplace=True)\n",
    "new_columns = []\n",
    "categories = encoder.categories_\n",
    "for i in range(len(categories)):\n",
    "    nc = list(categories[i])\n",
    "    nc = [cat_columns[i] + \"_\" + str(val) for val in nc]\n",
    "    new_columns += nc\n",
    "\n",
    "X = X.astype(int)\n",
    "one_hot = pd.DataFrame(X, columns=new_columns)\n",
    "df_new = pd.concat([one_hot, df_new], axis=1)"
   ]
  },
  {
   "cell_type": "code",
   "execution_count": 6,
   "metadata": {},
   "outputs": [],
   "source": [
    "df_save = df_new.copy()"
   ]
  },
  {
   "cell_type": "code",
   "execution_count": 7,
   "metadata": {},
   "outputs": [],
   "source": [
    "minconf = df_new[\"Diabetes_binary\"].sum(axis=0) / len(df_new)\n",
    "all_candidates = []\n",
    "all_frequent_itemsets = []\n",
    "candidates_k = list(df_new.columns)\n",
    "candidates_k.remove(\"Diabetes_binary\")\n",
    "remove_list = []\n",
    "for c in candidates_k:\n",
    "    df_new[c] = df_new[c] & df_new[\"Diabetes_binary\"]\n",
    "    temp_conf = df_new[c].sum(axis=0) / df_save[c].sum(axis=0)\n",
    "    if temp_conf < minconf:\n",
    "        remove_list.append(c)\n",
    "for c in remove_list:\n",
    "    candidates_k.remove(c)"
   ]
  },
  {
   "cell_type": "code",
   "execution_count": 8,
   "metadata": {},
   "outputs": [],
   "source": [
    "for _ in range(2):\n",
    "    new_candidates = []\n",
    "    for i in range(len(candidates_k)):\n",
    "        for j in range(i + 1, len(candidates_k)):\n",
    "            if have_same_prefix(candidates_k[i], candidates_k[j]):\n",
    "                temp_vector = df_new[candidates_k[i]] & df_new[candidates_k[j]]\n",
    "                temp_pop = df_save[candidates_k[i]] & df_save[candidates_k[j]]\n",
    "                temp_conf = temp_vector.sum(axis=0) / temp_pop.sum(axis=0)\n",
    "                if temp_conf >= minconf:\n",
    "                    column_name = generate_new_name(candidates_k[i], candidates_k[j])\n",
    "                    df_new[column_name] = temp_vector.copy()\n",
    "                    df_save[column_name] = temp_pop.copy()\n",
    "                    new_candidates.append(column_name)\n",
    "    all_candidates.append(candidates_k)\n",
    "    candidates_k = new_candidates\n"
   ]
  },
  {
   "cell_type": "code",
   "execution_count": 9,
   "metadata": {},
   "outputs": [],
   "source": [
    "text = \"\"\n",
    "for i in range(2):\n",
    "    candidates = all_candidates[i]\n",
    "    for c in candidates:\n",
    "        vector = df_new[c]\n",
    "        pop = df_save[c]\n",
    "        conf = vector.sum(axis=0) / pop.sum(axis=0)\n",
    "        text += f\"{c} = {round(conf * 100, 2)}%\\n\""
   ]
  },
  {
   "cell_type": "code",
   "execution_count": 10,
   "metadata": {},
   "outputs": [],
   "source": [
    "file = open(\"./confidence.txt\", 'w')\n",
    "file.write(text)\n",
    "file.close()"
   ]
  },
  {
   "cell_type": "code",
   "execution_count": 23,
   "metadata": {},
   "outputs": [
    {
     "data": {
      "image/png": "[encoded data removed]",
      "text/plain": [
       "<Figure size 640x480 with 1 Axes>"
      ]
     },
     "metadata": {},
     "output_type": "display_data"
    }
   ],
   "source": [
    "from matplotlib import cm\n",
    "\n",
    "columns = [\"BMI_0\", \"BMI_1\", \"BMI_2\", \"BMI_3\"]\n",
    "colors = [(0,0.5,1,0.25), (0,0.5,1,0.5), (0,0.5,1,0.75), (0,0.5,1,1)]\n",
    "names = [\"Below 18.5\", \"18.5 – 24.9\", \"25.0 – 29.9\", \"30.0 and Above\"]\n",
    "for i in range(len(columns)):\n",
    "    vector = df_new[columns[i]]\n",
    "    pop = df_save[columns[i]]\n",
    "    conf = vector.sum(axis=0) / pop.sum(axis=0)\n",
    "    plt.bar(names[i], round(conf*100, 2), color=colors[i], width=0.5)"
   ]
  },
  {
   "cell_type": "code",
   "execution_count": 32,
   "metadata": {},
   "outputs": [
    {
     "data": {
      "image/png": "[encoded data removed]",
      "text/plain": [
       "<Figure size 640x480 with 1 Axes>"
      ]
     },
     "metadata": {},
     "output_type": "display_data"
    }
   ],
   "source": [
    "ages = list(df[\"Age\"].unique())\n",
    "names = [\"18 to 24\", \"25 to 29\", \"30 to 34\", \"35 to 39\", \"40 to 44\", \"45 to 49\",\n",
    "         \"50 to 54\", \"55 to 59\", \"60 to 64\", \"65 to 69\", \"70 to 74\", \"75 to 79\", \"80 or older\"]\n",
    "ages.sort()\n",
    "for i in range(len(ages)):\n",
    "    c = f\"Age_{ages[i]}\"\n",
    "    vector = df_new[c]\n",
    "    pop = df_save[c]\n",
    "    conf = vector.sum(axis=0) / pop.sum(axis=0)\n",
    "    plt.bar(names[i], round(conf*100, 2), color=(0,0,1,(i+1)/len(ages)), width=0.5)"
   ]
  },
  {
   "cell_type": "code",
   "execution_count": 11,
   "metadata": {},
   "outputs": [
    {
     "data": {
      "text/plain": [
       "0.1516033158469554"
      ]
     },
     "execution_count": 11,
     "metadata": {},
     "output_type": "execute_result"
    }
   ],
   "source": [
    "df_new[\"Male\"].sum() / df_save[\"Male\"].sum()"
   ]
  },
  {
   "cell_type": "code",
   "execution_count": 12,
   "metadata": {},
   "outputs": [
    {
     "data": {
      "text/plain": [
       "0.12967867355994758"
      ]
     },
     "execution_count": 12,
     "metadata": {},
     "output_type": "execute_result"
    }
   ],
   "source": [
    "df_new[\"Female\"].sum() / df_save[\"Female\"].sum()"
   ]
  },
  {
   "cell_type": "code",
   "execution_count": 13,
   "metadata": {},
   "outputs": [
    {
     "data": {
      "text/plain": [
       "0.02192464228700783"
      ]
     },
     "execution_count": 13,
     "metadata": {},
     "output_type": "execute_result"
    }
   ],
   "source": [
    "df_new[\"Male\"].sum() / df_save[\"Male\"].sum() - df_new[\"Female\"].sum() / df_save[\"Female\"].sum()"
   ]
  }
 ],
 "metadata": {
  "kernelspec": {
   "display_name": "data-science",
   "language": "python",
   "name": "python3"
  },
  "language_info": {
   "codemirror_mode": {
    "name": "ipython",
    "version": 3
   },
   "file_extension": ".py",
   "mimetype": "text/x-python",
   "name": "python",
   "nbconvert_exporter": "python",
   "pygments_lexer": "ipython3",
   "version": "3.10.6"
  }
 },
 "nbformat": 4,
 "nbformat_minor": 2
}
